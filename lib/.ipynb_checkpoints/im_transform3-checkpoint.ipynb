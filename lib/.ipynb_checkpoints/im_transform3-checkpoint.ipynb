{
 "cells": [
  {
   "cell_type": "code",
   "execution_count": 1,
   "metadata": {},
   "outputs": [
    {
     "ename": "SyntaxError",
     "evalue": "'return' outside function (<ipython-input-1-9976dac23eea>, line 37)",
     "output_type": "error",
     "traceback": [
      "\u001b[0;36m  File \u001b[0;32m\"<ipython-input-1-9976dac23eea>\"\u001b[0;36m, line \u001b[0;32m37\u001b[0m\n\u001b[0;31m    return im, [scale, [offx, offy], flip]\u001b[0m\n\u001b[0m                                          ^\u001b[0m\n\u001b[0;31mSyntaxError\u001b[0m\u001b[0;31m:\u001b[0m 'return' outside function\n"
     ]
    }
   ],
   "source": [
    "import numpy as np\n",
    "import cv2\n",
    "\n",
    "\n",
    "def imcv2_recolor(im, a=.1):\n",
    "    # t = [np.random.uniform()]\n",
    "    # t += [np.random.uniform()]\n",
    "    # t += [np.random.uniform()]\n",
    "    # t = np.array(t) * 2. - 1.\n",
    "    t = np.random.uniform(-1, 1, 3)\n",
    "\n",
    "    # random amplify each channel\n",
    "    im = im.astype(np.float)\n",
    "    im *= (1 + t * a)\n",
    "    mx = 255. * (1 + a)\n",
    "    up = np.random.uniform(-1, 1)\n",
    "    im = np.power(im / mx, 1. + up * .5)\n",
    "    # return np.array(im * 255., np.uint8)\n",
    "    return im\n",
    "\n",
    "\n",
    "def imcv2_affine_trans(im):\n",
    "    # Scale and translate\n",
    "    h, w, c = im.shape\n",
    "    scale = np.random.uniform() / 10. + 1.\n",
    "    max_offx = (scale - 1.) * w\n",
    "    max_offy = (scale - 1.) * h\n",
    "    offx = int(np.random.uniform() * max_offx)\n",
    "    offy = int(np.random.uniform() * max_offy)\n",
    "\n",
    "    im = cv2.resize(im, (0, 0), fx=scale, fy=scale)\n",
    "    im = im[offy: (offy + h), offx: (offx + w)]\n",
    "    flip = np.random.uniform() > 0.5\n",
    "    if flip:\n",
    "        im = cv2.flip(im, 1)\n",
    "\n",
    "    return im, [scale, [offx, offy], flip]"
   ]
  },
  {
   "cell_type": "code",
   "execution_count": null,
   "metadata": {},
   "outputs": [],
   "source": []
  }
 ],
 "metadata": {
  "kernelspec": {
   "display_name": "Python 3",
   "language": "python",
   "name": "python3"
  },
  "language_info": {
   "codemirror_mode": {
    "name": "ipython",
    "version": 3
   },
   "file_extension": ".py",
   "mimetype": "text/x-python",
   "name": "python",
   "nbconvert_exporter": "python",
   "pygments_lexer": "ipython3",
   "version": "3.5.2"
  }
 },
 "nbformat": 4,
 "nbformat_minor": 2
}
